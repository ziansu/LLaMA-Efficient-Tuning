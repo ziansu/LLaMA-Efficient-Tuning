{
 "cells": [
  {
   "cell_type": "code",
   "execution_count": 2,
   "metadata": {},
   "outputs": [
    {
     "name": "stdout",
     "output_type": "stream",
     "text": [
      "/data3/user/su284/workspace/LLaMA-Efficient-Tuning/expr\n"
     ]
    }
   ],
   "source": [
    "# data split before train script\n",
    "\n",
    "import json\n",
    "import os\n",
    "import random\n",
    "import pandas as pd\n",
    "\n",
    "random.seed(42)\n",
    "print(os.getcwd())\n",
    "\n",
    "# with open('../data/dcrn/gh-dataset-1300.jsonl', 'r') as f:\n",
    "#     dataset = [json.loads(line.rstrip()) for line in f.readlines()]\n",
    "#     random.shuffle(dataset)\n",
    "#     train_size = int(0.95 * len(dataset))\n",
    "#     train, test = dataset[:train_size], \\\n",
    "#                          dataset[train_size:]\n",
    "# with open('../data/dcrn/gh-dataset.json', 'w') as f:\n",
    "#     json.dump({\n",
    "#         'train': train,\n",
    "#         'test': test\n",
    "#     }, f)\n",
    "\n",
    "\n",
    "with open('../data/dcrn/gh-dataset-1300.jsonl', 'r') as f:\n",
    "    dataset = [json.loads(line.rstrip()) for line in f.readlines()]\n",
    "    def eliminate_recursion(js):    # NOTE by zian: `load_dataset` doesn't support recursive json format\n",
    "        # imap = ''\n",
    "        # for key, value in js['identifier_map'].items():\n",
    "        #     imap += f'{key}: {value}, '\n",
    "        # js['identifier_map'] = imap[:-2]\n",
    "        js['identifier_map'] = repr(js['identifier_map'])\n",
    "        return js\n",
    "    dataset = [json.dumps(eliminate_recursion(js)) + '\\n' for js in dataset]\n",
    "    random.shuffle(dataset)\n",
    "    train_size = int(0.95 * len(dataset))\n",
    "    train, test = dataset[:train_size], \\\n",
    "                         dataset[train_size:]\n",
    "\n",
    "with open('../data/dcrn/gh-dataset-train.jsonl', 'w') as f:\n",
    "    f.writelines(train)\n",
    "\n",
    "with open('../data/dcrn/gh-dataset-test.jsonl', 'w') as f:\n",
    "    f.writelines(test)"
   ]
  },
  {
   "cell_type": "code",
   "execution_count": 2,
   "metadata": {},
   "outputs": [
    {
     "name": "stdout",
     "output_type": "stream",
     "text": [
      "unsigned __int64 __fastcall sub_A87A4C(__int64 *a1, __int64 a2, __int64 a3)\n",
      "{\n",
      "  __int64 v4[3]; // [rsp+30h] [rbp-20h] BYREF\n",
      "  unsigned __int64 v5; // [rsp+48h] [rbp-8h]\n",
      "\n",
      "  v5 = __readfsqword(0x28u);\n",
      "  v4[0] = a2;\n",
      "  v4[1] = a3;\n",
      "  sub_A2F66B(a1, (__int64)sub_A4A1E5, -1LL, 2, (__int64)v4);\n",
      "  return v5 - __readfsqword(0x28u);\n",
      "}\n",
      "\n"
     ]
    }
   ],
   "source": [
    "with open('../data/dcrn/gh-dataset.json', 'r') as f:\n",
    "    dataset = json.load(f)\n",
    "    print(dataset['train'][0]['code'])"
   ]
  },
  {
   "cell_type": "code",
   "execution_count": null,
   "metadata": {},
   "outputs": [],
   "source": []
  }
 ],
 "metadata": {
  "kernelspec": {
   "display_name": "peft",
   "language": "python",
   "name": "python3"
  },
  "language_info": {
   "codemirror_mode": {
    "name": "ipython",
    "version": 3
   },
   "file_extension": ".py",
   "mimetype": "text/x-python",
   "name": "python",
   "nbconvert_exporter": "python",
   "pygments_lexer": "ipython3",
   "version": "3.10.11"
  },
  "orig_nbformat": 4
 },
 "nbformat": 4,
 "nbformat_minor": 2
}
