{
 "cells": [
  {
   "cell_type": "code",
   "execution_count": 4,
   "metadata": {},
   "outputs": [
    {
     "name": "stdout",
     "output_type": "stream",
     "text": [
      "/data3/user/su284/workspace/LLaMA-Efficient-Tuning/src\n"
     ]
    }
   ],
   "source": [
    "# data split before train script\n",
    "\n",
    "import json\n",
    "import os\n",
    "import random\n",
    "\n",
    "random.seed(42)\n",
    "print(os.getcwd())\n",
    "\n",
    "with open('../data/dcrn/gh-dataset-1300.jsonl', 'r') as f:\n",
    "    dataset = [json.loads(line.rstrip()) for line in f.readlines()]\n",
    "    random.shuffle(dataset)\n",
    "    train_size = int(0.8 * len(dataset))\n",
    "    valid_size = int(0.1 * len(dataset))\n",
    "    test_size = len(dataset) - train_size - valid_size\n",
    "    train, valid, test = dataset[:train_size], \\\n",
    "                         dataset[train_size: train_size + valid_size], \\\n",
    "                         dataset[train_size + valid_size:]\n",
    "\n",
    "with open('../data/dcrn/gh-dataset.json', 'w') as f:\n",
    "    json.dump({\n",
    "        'train': train,\n",
    "        'valid': valid,\n",
    "        'test': test\n",
    "    }, f)\n",
    "\n"
   ]
  },
  {
   "cell_type": "code",
   "execution_count": 5,
   "metadata": {},
   "outputs": [
    {
     "name": "stdout",
     "output_type": "stream",
     "text": [
      "unsigned __int64 __fastcall sub_A87A4C(__int64 *a1, __int64 a2, __int64 a3)\n",
      "{\n",
      "  __int64 v4[3]; // [rsp+30h] [rbp-20h] BYREF\n",
      "  unsigned __int64 v5; // [rsp+48h] [rbp-8h]\n",
      "\n",
      "  v5 = __readfsqword(0x28u);\n",
      "  v4[0] = a2;\n",
      "  v4[1] = a3;\n",
      "  sub_A2F66B(a1, (__int64)sub_A4A1E5, -1LL, 2, (__int64)v4);\n",
      "  return v5 - __readfsqword(0x28u);\n",
      "}\n",
      "\n"
     ]
    }
   ],
   "source": [
    "with open('../data/dcrn/gh-dataset.json', 'r') as f:\n",
    "    dataset = json.load(f)\n",
    "    print(dataset['train'][0]['code'])"
   ]
  },
  {
   "cell_type": "code",
   "execution_count": null,
   "metadata": {},
   "outputs": [],
   "source": []
  }
 ],
 "metadata": {
  "kernelspec": {
   "display_name": "peft",
   "language": "python",
   "name": "python3"
  },
  "language_info": {
   "codemirror_mode": {
    "name": "ipython",
    "version": 3
   },
   "file_extension": ".py",
   "mimetype": "text/x-python",
   "name": "python",
   "nbconvert_exporter": "python",
   "pygments_lexer": "ipython3",
   "version": "3.10.11"
  },
  "orig_nbformat": 4
 },
 "nbformat": 4,
 "nbformat_minor": 2
}
